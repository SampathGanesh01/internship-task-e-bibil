{
  "nbformat": 4,
  "nbformat_minor": 0,
  "metadata": {
    "colab": {
      "name": "internship task.ipynb",
      "provenance": [],
      "authorship_tag": "ABX9TyOu+uXA/BqZzMHKTHmFazUb",
      "include_colab_link": true
    },
    "kernelspec": {
      "name": "python3",
      "display_name": "Python 3"
    },
    "language_info": {
      "name": "python"
    }
  },
  "cells": [
    {
      "cell_type": "markdown",
      "metadata": {
        "id": "view-in-github",
        "colab_type": "text"
      },
      "source": [
        "<a href=\"https://colab.research.google.com/github/SampathGanesh01/internship-task-e-bibil/blob/main/internship_task.ipynb\" target=\"_parent\"><img src=\"https://colab.research.google.com/assets/colab-badge.svg\" alt=\"Open In Colab\"/></a>"
      ]
    },
    {
      "cell_type": "markdown",
      "metadata": {
        "id": "TzXvw0bwEa6u"
      },
      "source": [
        "# **INTERNSHIP** **TASK**\n",
        "#### Name : Sampath Ganesh Kandregula\n",
        "\n"
      ]
    },
    {
      "cell_type": "markdown",
      "metadata": {
        "id": "zgprg7Qi9tVb"
      },
      "source": [
        "Write a Python program which asks the user to enter a number 'n' and then iterates the integers from 1 to 'n'. For multiples of three print \"3n\" instead of the number and for the multiples of five print \"5n\". For numbers which are multiples of both three and five print \"your-name\"."
      ]
    },
    {
      "cell_type": "code",
      "metadata": {
        "colab": {
          "base_uri": "https://localhost:8080/"
        },
        "id": "9-73uT_m902K",
        "outputId": "47b4e9bd-b475-4cce-b75c-885460de1d76"
      },
      "source": [
        "n = int(input(\"please enter a number\"))#input function \n",
        "for i in range(1,n):\n",
        "  if i % 3 == 0 and i % 5 == 0:#if divisible by both 3 and 5 \n",
        "    print(\"your-name\")\n",
        "    continue\n",
        "  elif i % 3 == 0:#if divisible by 3\n",
        "    print(3*n)\n",
        "    continue\n",
        "  elif i % 5 == 0:#if divisible by 5 \n",
        "    print(5*n)\n",
        "    continue\n",
        "  print(i)# if not divisible by both 3 and 5 print the integer "
      ],
      "execution_count": 21,
      "outputs": [
        {
          "output_type": "stream",
          "text": [
            "please enter a number15\n",
            "1\n",
            "2\n",
            "45\n",
            "4\n",
            "75\n",
            "45\n",
            "7\n",
            "8\n",
            "45\n",
            "75\n",
            "11\n",
            "45\n",
            "13\n",
            "14\n"
          ],
          "name": "stdout"
        }
      ]
    }
  ]
}