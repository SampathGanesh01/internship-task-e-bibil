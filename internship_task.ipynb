{
  "nbformat": 4,
  "nbformat_minor": 0,
  "metadata": {
    "colab": {
      "name": "internship task.ipynb",
      "provenance": [],
      "collapsed_sections": [],
      "authorship_tag": "ABX9TyMCMYUgddJQ9j9R9KMeSZ/C",
      "include_colab_link": true
    },
    "kernelspec": {
      "name": "python3",
      "display_name": "Python 3"
    },
    "language_info": {
      "name": "python"
    }
  },
  "cells": [
    {
      "cell_type": "markdown",
      "metadata": {
        "id": "view-in-github",
        "colab_type": "text"
      },
      "source": [
        "<a href=\"https://colab.research.google.com/github/SampathGanesh01/internship-task-e-bibil/blob/main/internship_task.ipynb\" target=\"_parent\"><img src=\"https://colab.research.google.com/assets/colab-badge.svg\" alt=\"Open In Colab\"/></a>"
      ]
    },
    {
      "cell_type": "markdown",
      "metadata": {
        "id": "TzXvw0bwEa6u"
      },
      "source": [
        "# **INTERNSHIP** **TASK**\n",
        "#### Name : Sampath Ganesh Kandregula\n",
        "\n"
      ]
    },
    {
      "cell_type": "markdown",
      "metadata": {
        "id": "zgprg7Qi9tVb"
      },
      "source": [
        "1. Write a Python program which asks the user to enter a number 'n' and then iterates the integers from 1 to 'n'. For multiples of three print \"3n\" instead of the number and for the multiples of five print \"5n\". For numbers which are multiples of both three and five print \"your-name\"."
      ]
    },
    {
      "cell_type": "code",
      "metadata": {
        "colab": {
          "base_uri": "https://localhost:8080/"
        },
        "id": "9-73uT_m902K",
        "outputId": "47b4e9bd-b475-4cce-b75c-885460de1d76"
      },
      "source": [
        "n = int(input(\"please enter a number\"))#input function \n",
        "for i in range(1,n):\n",
        "  if i % 3 == 0 and i % 5 == 0:#if divisible by both 3 and 5 \n",
        "    print(\"your-name\")\n",
        "    continue\n",
        "  elif i % 3 == 0:#if divisible by 3\n",
        "    print(3*n)\n",
        "    continue\n",
        "  elif i % 5 == 0:#if divisible by 5 \n",
        "    print(5*n)\n",
        "    continue\n",
        "  print(i)# if not divisible by both 3 and 5 print the integer "
      ],
      "execution_count": 21,
      "outputs": [
        {
          "output_type": "stream",
          "text": [
            "please enter a number15\n",
            "1\n",
            "2\n",
            "45\n",
            "4\n",
            "75\n",
            "45\n",
            "7\n",
            "8\n",
            "45\n",
            "75\n",
            "11\n",
            "45\n",
            "13\n",
            "14\n"
          ],
          "name": "stdout"
        }
      ]
    },
    {
      "cell_type": "markdown",
      "metadata": {
        "id": "d1Kd-S_BHGR0"
      },
      "source": [
        "2. Hitting a GET request to the following URL endpoint https://jsonplaceholder.typicode.com/todos/1  gives\n",
        "{\n",
        "        \"userId\": 1,\n",
        "        \"id\": 1,\n",
        "        \"title\": \"aut consectetur in blanditiis deserunt quia sed laboriosam\",\n",
        "        \"completed\": true\n",
        "    }\n",
        "   \n",
        "    as the response, If we just change the userId parameter(todos/1 or todos/2) in the URL endpoint and hit the GET request again at  https://jsonplaceholder.typicode.com/todos/2 we recieve a different response with the same structure having userId, id, title and completed key value pairs.\n",
        "   \n",
        "    Now write a Python program to send GET requests 5 times for 5 different userIds(1,2,3,4&5) and append the title from response to a common list. Finally print the list."
      ]
    },
    {
      "cell_type": "code",
      "metadata": {
        "colab": {
          "base_uri": "https://localhost:8080/"
        },
        "id": "3ErfPMHTHQvk",
        "outputId": "50f9f28b-2b2a-45ca-cbfb-d08b0362f730"
      },
      "source": [
        "import requests\n",
        "for i in (1,2,3,4,5):#looping over id's\n",
        "  url = 'https://jsonplaceholder.typicode.com/todos/' + str(i) # conacetnating the link and the number \n",
        "  r  = requests.get(url)\n",
        "  answers = r.text\n",
        "  common_list = []\n",
        "  common_list.append(answers)\n",
        "  print(common_list)\n",
        "\n"
      ],
      "execution_count": 55,
      "outputs": [
        {
          "output_type": "stream",
          "text": [
            "['{\\n  \"userId\": 1,\\n  \"id\": 1,\\n  \"title\": \"delectus aut autem\",\\n  \"completed\": false\\n}']\n",
            "['{\\n  \"userId\": 1,\\n  \"id\": 2,\\n  \"title\": \"quis ut nam facilis et officia qui\",\\n  \"completed\": false\\n}']\n",
            "['{\\n  \"userId\": 1,\\n  \"id\": 3,\\n  \"title\": \"fugiat veniam minus\",\\n  \"completed\": false\\n}']\n",
            "['{\\n  \"userId\": 1,\\n  \"id\": 4,\\n  \"title\": \"et porro tempora\",\\n  \"completed\": true\\n}']\n",
            "['{\\n  \"userId\": 1,\\n  \"id\": 5,\\n  \"title\": \"laboriosam mollitia et enim quasi adipisci quia provident illum\",\\n  \"completed\": false\\n}']\n"
          ],
          "name": "stdout"
        },
        {
          "output_type": "execute_result",
          "data": {
            "text/plain": [
              "list"
            ]
          },
          "metadata": {
            "tags": []
          },
          "execution_count": 55
        }
      ]
    }
  ]
}